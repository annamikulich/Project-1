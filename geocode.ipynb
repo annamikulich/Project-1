{
 "cells": [
  {
   "cell_type": "markdown",
   "metadata": {},
   "source": [
    "# Geoapify Geocode Demo"
   ]
  },
  {
   "cell_type": "code",
   "execution_count": 11,
   "metadata": {},
   "outputs": [],
   "source": [
    "# Dependencies\n",
    "import requests\n",
    "import json\n",
    "\n",
    "# Import the API key\n",
    "from config import geoapify_key"
   ]
  },
  {
   "cell_type": "code",
   "execution_count": 13,
   "metadata": {},
   "outputs": [],
   "source": [
    "# Target city\n",
    "target_city = \"Sydney, Australia\"\n",
    "\n",
    "# Build the endpoint URL\n",
    "target_url = f\"https://api.geoapify.com/v1/geocode/search?text={target_city}&format=json&apiKey={geoapify_key}\""
   ]
  },
  {
   "cell_type": "code",
   "execution_count": 15,
   "metadata": {},
   "outputs": [
    {
     "name": "stdout",
     "output_type": "stream",
     "text": [
      "{'results': [{'datasource': {'sourcename': 'openstreetmap', 'attribution': '© OpenStreetMap contributors', 'license': 'Open Database License', 'url': 'https://www.openstreetmap.org/copyright'}, 'country': 'Australia', 'country_code': 'au', 'state': 'New South Wales', 'city': 'Sydney', 'municipality': 'Council of the City of Sydney', 'lon': 151.2082848, 'lat': -33.8698439, 'state_code': 'NSW', 'result_type': 'city', 'formatted': 'Sydney, NSW, Australia', 'address_line1': 'Sydney', 'address_line2': 'NSW, Australia', 'category': 'administrative', 'timezone': {'name': 'Australia/Sydney', 'offset_STD': '+10:00', 'offset_STD_seconds': 36000, 'offset_DST': '+11:00', 'offset_DST_seconds': 39600, 'abbreviation_STD': 'AEST', 'abbreviation_DST': 'AEDT'}, 'plus_code': '4RRH46J5+38', 'plus_code_short': 'J5+38 Sydney, New South Wales, Australia', 'rank': {'importance': 0.8245908962989684, 'popularity': 7.332617625087506, 'confidence': 1, 'confidence_city_level': 1, 'match_type': 'full_match'}, 'place_id': '512088e244aae662405903907f0b57ef40c0f00101f901f5bc570000000000c00208', 'bbox': {'lon1': 150.260825, 'lat1': -34.1732416, 'lon2': 151.343898, 'lat2': -33.3641864}}, {'datasource': {'sourcename': 'openstreetmap', 'attribution': '© OpenStreetMap contributors', 'license': 'Open Database License', 'url': 'https://www.openstreetmap.org/copyright'}, 'country': 'Australia', 'country_code': 'au', 'state': 'New South Wales', 'city': 'Council of the City of Sydney', 'lon': 151.2050386296839, 'lat': -33.8890382, 'state_code': 'NSW', 'result_type': 'city', 'formatted': 'Council of the City of Sydney, NSW, Australia', 'address_line1': 'Council of the City of Sydney', 'address_line2': 'NSW, Australia', 'category': 'administrative', 'timezone': {'name': 'Australia/Sydney', 'offset_STD': '+10:00', 'offset_STD_seconds': 36000, 'offset_DST': '+11:00', 'offset_DST_seconds': 39600, 'abbreviation_STD': 'AEST', 'abbreviation_DST': 'AEDT'}, 'plus_code': '4RRH4664+92', 'rank': {'importance': 0.5602672043141234, 'popularity': 6.340264879863925, 'confidence': 0.5904900000000001, 'confidence_city_level': 0.5904900000000001, 'match_type': 'full_match'}, 'place_id': '51171d2cad8fe662405986f2f400ccf140c0f00101f901fa16130000000000c00208', 'bbox': {'lon1': 151.1748638, 'lat1': -33.9243832, 'lon2': 151.2330104, 'lat2': -33.8535496}}], 'query': {'text': 'Sydney, Australia', 'parsed': {'city': 'sydney', 'country': 'australia', 'expected_type': 'city'}}}\n"
     ]
    }
   ],
   "source": [
    "# Run a request to endpoint and convert result to json\n",
    "geo_data = requests.get(target_url).json()\n",
    "\n",
    "# Print the json\n",
    "print(geo_data)"
   ]
  },
  {
   "cell_type": "code",
   "execution_count": 17,
   "metadata": {},
   "outputs": [
    {
     "name": "stdout",
     "output_type": "stream",
     "text": [
      "{\n",
      "    \"query\": {\n",
      "        \"parsed\": {\n",
      "            \"city\": \"sydney\",\n",
      "            \"country\": \"australia\",\n",
      "            \"expected_type\": \"city\"\n",
      "        },\n",
      "        \"text\": \"Sydney, Australia\"\n",
      "    },\n",
      "    \"results\": [\n",
      "        {\n",
      "            \"address_line1\": \"Sydney\",\n",
      "            \"address_line2\": \"NSW, Australia\",\n",
      "            \"bbox\": {\n",
      "                \"lat1\": -34.1732416,\n",
      "                \"lat2\": -33.3641864,\n",
      "                \"lon1\": 150.260825,\n",
      "                \"lon2\": 151.343898\n",
      "            },\n",
      "            \"category\": \"administrative\",\n",
      "            \"city\": \"Sydney\",\n",
      "            \"country\": \"Australia\",\n",
      "            \"country_code\": \"au\",\n",
      "            \"datasource\": {\n",
      "                \"attribution\": \"\\u00a9 OpenStreetMap contributors\",\n",
      "                \"license\": \"Open Database License\",\n",
      "                \"sourcename\": \"openstreetmap\",\n",
      "                \"url\": \"https://www.openstreetmap.org/copyright\"\n",
      "            },\n",
      "            \"formatted\": \"Sydney, NSW, Australia\",\n",
      "            \"lat\": -33.8698439,\n",
      "            \"lon\": 151.2082848,\n",
      "            \"municipality\": \"Council of the City of Sydney\",\n",
      "            \"place_id\": \"512088e244aae662405903907f0b57ef40c0f00101f901f5bc570000000000c00208\",\n",
      "            \"plus_code\": \"4RRH46J5+38\",\n",
      "            \"plus_code_short\": \"J5+38 Sydney, New South Wales, Australia\",\n",
      "            \"rank\": {\n",
      "                \"confidence\": 1,\n",
      "                \"confidence_city_level\": 1,\n",
      "                \"importance\": 0.8245908962989684,\n",
      "                \"match_type\": \"full_match\",\n",
      "                \"popularity\": 7.332617625087506\n",
      "            },\n",
      "            \"result_type\": \"city\",\n",
      "            \"state\": \"New South Wales\",\n",
      "            \"state_code\": \"NSW\",\n",
      "            \"timezone\": {\n",
      "                \"abbreviation_DST\": \"AEDT\",\n",
      "                \"abbreviation_STD\": \"AEST\",\n",
      "                \"name\": \"Australia/Sydney\",\n",
      "                \"offset_DST\": \"+11:00\",\n",
      "                \"offset_DST_seconds\": 39600,\n",
      "                \"offset_STD\": \"+10:00\",\n",
      "                \"offset_STD_seconds\": 36000\n",
      "            }\n",
      "        },\n",
      "        {\n",
      "            \"address_line1\": \"Council of the City of Sydney\",\n",
      "            \"address_line2\": \"NSW, Australia\",\n",
      "            \"bbox\": {\n",
      "                \"lat1\": -33.9243832,\n",
      "                \"lat2\": -33.8535496,\n",
      "                \"lon1\": 151.1748638,\n",
      "                \"lon2\": 151.2330104\n",
      "            },\n",
      "            \"category\": \"administrative\",\n",
      "            \"city\": \"Council of the City of Sydney\",\n",
      "            \"country\": \"Australia\",\n",
      "            \"country_code\": \"au\",\n",
      "            \"datasource\": {\n",
      "                \"attribution\": \"\\u00a9 OpenStreetMap contributors\",\n",
      "                \"license\": \"Open Database License\",\n",
      "                \"sourcename\": \"openstreetmap\",\n",
      "                \"url\": \"https://www.openstreetmap.org/copyright\"\n",
      "            },\n",
      "            \"formatted\": \"Council of the City of Sydney, NSW, Australia\",\n",
      "            \"lat\": -33.8890382,\n",
      "            \"lon\": 151.2050386296839,\n",
      "            \"place_id\": \"51171d2cad8fe662405986f2f400ccf140c0f00101f901fa16130000000000c00208\",\n",
      "            \"plus_code\": \"4RRH4664+92\",\n",
      "            \"rank\": {\n",
      "                \"confidence\": 0.5904900000000001,\n",
      "                \"confidence_city_level\": 0.5904900000000001,\n",
      "                \"importance\": 0.5602672043141234,\n",
      "                \"match_type\": \"full_match\",\n",
      "                \"popularity\": 6.340264879863925\n",
      "            },\n",
      "            \"result_type\": \"city\",\n",
      "            \"state\": \"New South Wales\",\n",
      "            \"state_code\": \"NSW\",\n",
      "            \"timezone\": {\n",
      "                \"abbreviation_DST\": \"AEDT\",\n",
      "                \"abbreviation_STD\": \"AEST\",\n",
      "                \"name\": \"Australia/Sydney\",\n",
      "                \"offset_DST\": \"+11:00\",\n",
      "                \"offset_DST_seconds\": 39600,\n",
      "                \"offset_STD\": \"+10:00\",\n",
      "                \"offset_STD_seconds\": 36000\n",
      "            }\n",
      "        }\n",
      "    ]\n",
      "}\n"
     ]
    }
   ],
   "source": [
    "# Print the json (pretty printed)\n",
    "print(json.dumps(geo_data, indent=4, sort_keys=True))"
   ]
  },
  {
   "cell_type": "code",
   "execution_count": 19,
   "metadata": {},
   "outputs": [
    {
     "name": "stdout",
     "output_type": "stream",
     "text": [
      "\n",
      "    City: Sydney, Australia\n",
      "    Latitude: -33.8698439\n",
      "    Longitude: 151.2082848\n",
      "    \n"
     ]
    }
   ],
   "source": [
    "# Extract latitude and longitude\n",
    "lat = geo_data[\"results\"][0][\"lat\"]\n",
    "lon = geo_data[\"results\"][0][\"lon\"]\n",
    "\n",
    "# Print the latitude and longitude\n",
    "print('''\n",
    "    City: {0}\n",
    "    Latitude: {1}\n",
    "    Longitude: {2}\n",
    "    '''.format(target_city, lat, lon))"
   ]
  },
  {
   "cell_type": "code",
   "execution_count": null,
   "metadata": {},
   "outputs": [],
   "source": []
  }
 ],
 "metadata": {
  "anaconda-cloud": {},
  "kernelspec": {
   "display_name": "Python 3 (ipykernel)",
   "language": "python",
   "name": "python3"
  },
  "language_info": {
   "codemirror_mode": {
    "name": "ipython",
    "version": 3
   },
   "file_extension": ".py",
   "mimetype": "text/x-python",
   "name": "python",
   "nbconvert_exporter": "python",
   "pygments_lexer": "ipython3",
   "version": "3.12.7"
  }
 },
 "nbformat": 4,
 "nbformat_minor": 4
}
